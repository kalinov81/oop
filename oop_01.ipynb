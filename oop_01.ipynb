{
 "cells": [
  {
   "cell_type": "code",
   "execution_count": 5,
   "id": "5d299a32",
   "metadata": {},
   "outputs": [],
   "source": [
    "class Adder:\n",
    "    x = 10\n",
    "    \n",
    "    def sum(self, a, b, c):\n",
    "        self.a = a\n",
    "        self.b = b\n",
    "        self.c = c\n",
    "        return a + b + c"
   ]
  },
  {
   "cell_type": "code",
   "execution_count": 6,
   "id": "5d9f6dd8",
   "metadata": {},
   "outputs": [],
   "source": [
    "add1 = Adder()\n",
    "add2 = Adder()"
   ]
  },
  {
   "cell_type": "code",
   "execution_count": 7,
   "id": "5171b266",
   "metadata": {},
   "outputs": [
    {
     "data": {
      "text/plain": [
       "60"
      ]
     },
     "execution_count": 7,
     "metadata": {},
     "output_type": "execute_result"
    }
   ],
   "source": [
    "add1.sum(10, 20, 30)"
   ]
  },
  {
   "cell_type": "code",
   "execution_count": 4,
   "id": "59c4bdab",
   "metadata": {},
   "outputs": [
    {
     "data": {
      "text/plain": [
       "3"
      ]
     },
     "execution_count": 4,
     "metadata": {},
     "output_type": "execute_result"
    }
   ],
   "source": [
    "add2.sum(0, 1, 2)"
   ]
  },
  {
   "cell_type": "code",
   "execution_count": 9,
   "id": "8f3590fc",
   "metadata": {},
   "outputs": [
    {
     "data": {
      "text/plain": [
       "10"
      ]
     },
     "execution_count": 9,
     "metadata": {},
     "output_type": "execute_result"
    }
   ],
   "source": [
    "add1.x"
   ]
  },
  {
   "cell_type": "code",
   "execution_count": null,
   "id": "f7e26766",
   "metadata": {},
   "outputs": [],
   "source": [
    "add1.x"
   ]
  },
  {
   "cell_type": "code",
   "execution_count": null,
   "id": "5dab9836",
   "metadata": {},
   "outputs": [],
   "source": [
    "add1.pi = 0"
   ]
  },
  {
   "cell_type": "code",
   "execution_count": null,
   "id": "1ff86586",
   "metadata": {},
   "outputs": [],
   "source": [
    "add1.pi"
   ]
  },
  {
   "cell_type": "code",
   "execution_count": null,
   "id": "f86b8cda",
   "metadata": {},
   "outputs": [],
   "source": [
    "add2.pi"
   ]
  },
  {
   "cell_type": "code",
   "execution_count": null,
   "id": "a168513b",
   "metadata": {},
   "outputs": [],
   "source": [
    "add1.__dict__"
   ]
  },
  {
   "cell_type": "code",
   "execution_count": null,
   "id": "7001570b",
   "metadata": {},
   "outputs": [],
   "source": [
    "add2.__dict__"
   ]
  },
  {
   "cell_type": "code",
   "execution_count": null,
   "id": "2de23f59",
   "metadata": {},
   "outputs": [],
   "source": []
  }
 ],
 "metadata": {
  "kernelspec": {
   "display_name": "Python 3 (ipykernel)",
   "language": "python",
   "name": "python3"
  },
  "language_info": {
   "codemirror_mode": {
    "name": "ipython",
    "version": 3
   },
   "file_extension": ".py",
   "mimetype": "text/x-python",
   "name": "python",
   "nbconvert_exporter": "python",
   "pygments_lexer": "ipython3",
   "version": "3.11.5"
  }
 },
 "nbformat": 4,
 "nbformat_minor": 5
}
